{
  "nbformat": 4,
  "nbformat_minor": 0,
  "metadata": {
    "colab": {
      "name": "Home_Automation.ipynb",
      "provenance": [],
      "include_colab_link": true
    },
    "kernelspec": {
      "name": "python3",
      "display_name": "Python 3"
    }
  },
  "cells": [
    {
      "cell_type": "markdown",
      "metadata": {
        "id": "view-in-github",
        "colab_type": "text"
      },
      "source": [
        "<a href=\"https://colab.research.google.com/github/Shubhamsahu51/IOT_HOME-AUTOMATION_PROJECT/blob/main/Home_Automation.ipynb\" target=\"_parent\"><img src=\"https://colab.research.google.com/assets/colab-badge.svg\" alt=\"Open In Colab\"/></a>"
      ]
    },
    {
      "cell_type": "code",
      "metadata": {
        "id": "jxDchlT7mQHl"
      },
      "source": [
        "import sys\r\n",
        "from urllib.request import urlopen\r\n",
        "from time import sleep\r\n",
        "import json\r\n",
        "import random\r\n",
        "import RPi.GPIO as GPIO  \r\n",
        "import time  \r\n",
        "import random\r\n",
        "\r\n",
        "write_API = '6L6I6TUNO8YDNYDB'\r\n",
        "read_API = 'UPMUTEH5T620OWWX'\r\n",
        "channel_ID = '1304924'\r\n",
        "\r\n",
        "#baseURL = 'https://api.thingspeak.com/update?api_key=%s' % write_API \r\n",
        "#conn = urlopen(baseURL + '&field1=' + '200'  )\r\n",
        "#conn.close()"
      ],
      "execution_count": null,
      "outputs": []
    },
    {
      "cell_type": "code",
      "metadata": {
        "colab": {
          "base_uri": "https://localhost:8080/"
        },
        "id": "osi3Iwy8neis",
        "outputId": "d286c1a7-a181-4631-f5a9-2b793358de01"
      },
      "source": [
        "TS = urlopen(\"GET https://api.thingspeak.com/channels/1304924/feeds.json?api_key=UPMUTEH5T620OWWX&results=2\" % (channel_ID,read_API))\r\n",
        "response = TS.read()\r\n",
        "#print(response);\r\n",
        "data=json.loads(response)\r\n",
        "\r\n",
        "b = data['field1']\r\n",
        "#SETTING THE PIN GPIO\r\n",
        "GPIO.setwarnings(False)\r\n",
        "GPIO.setmode(GPIO.BOARD)   #fan output connected to this pin\r\n",
        "GPIO.setup(18, GPIO.OUT) #Output the data\r\n",
        "while True:  \r\n",
        "     try:  \r\n",
        "        if (b== 0):\r\n",
        "          GPIO.output(18, False)#fan will be of! \r\n",
        "          sleep(.01)\r\n",
        "        else:\r\n",
        "          GPIO.output(18, True) #fan will be on!\r\n",
        "    except KeyboardInterrupt:  \r\n",
        "        exit() \r\n",
        "\r\n",
        "TS.close()"
      ],
      "execution_count": null,
      "outputs": [
        {
          "output_type": "stream",
          "text": [
            "0\n"
          ],
          "name": "stdout"
        }
      ]
    }
  ]
}